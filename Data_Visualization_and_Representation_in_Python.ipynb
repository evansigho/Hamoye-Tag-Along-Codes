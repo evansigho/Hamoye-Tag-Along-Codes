{
  "nbformat": 4,
  "nbformat_minor": 0,
  "metadata": {
    "colab": {
      "name": "Data Visualization and Representation in Python.ipynb",
      "provenance": [],
      "collapsed_sections": [],
      "authorship_tag": "ABX9TyNXyqETgANuqqmPOvXXtzDL",
      "include_colab_link": true
    },
    "kernelspec": {
      "name": "python3",
      "display_name": "Python 3"
    },
    "language_info": {
      "name": "python"
    }
  },
  "cells": [
    {
      "cell_type": "markdown",
      "metadata": {
        "id": "view-in-github",
        "colab_type": "text"
      },
      "source": [
        "<a href=\"https://colab.research.google.com/github/evansigho/Hamoye-Tag-Along-Codes/blob/main/Data_Visualization_and_Representation_in_Python.ipynb\" target=\"_parent\"><img src=\"https://colab.research.google.com/assets/colab-badge.svg\" alt=\"Open In Colab\"/></a>"
      ]
    },
    {
      "cell_type": "markdown",
      "source": [
        "# New Section"
      ],
      "metadata": {
        "id": "KedcFcxfJ9ZW"
      }
    },
    {
      "cell_type": "markdown",
      "source": [
        "Concept 1.5: Data Visualization and Representation in Python"
      ],
      "metadata": {
        "id": "TIrH7530KCBA"
      }
    },
    {
      "cell_type": "markdown",
      "source": [
        "- The Anscombe Quarter and the importance of visualizing data."
      ],
      "metadata": {
        "id": "voHbjN-SKNAk"
      }
    },
    {
      "cell_type": "code",
      "execution_count": null,
      "metadata": {
        "id": "-gToQQ_awOMW"
      },
      "outputs": [],
      "source": [
        "#import plotting library\n",
        "import matplotlib.pyplot as plt\n",
        "\n",
        "plt.figure(figsize=(7,4))\n",
        "plt.xticks(rotation=90)\n",
        "fuel_unit = pd.DataFrame({\"unit\":['BBL', 'GAL', 'GRAMSU', 'KGU', 'MCF', 'MMBTU', \n",
        "'MWDTH', 'MWHTH', 'TON'],\n",
        "            'count' :[7998. 84, 464, 110, 11354, 180, 95, 100, 8958]})\n",
        "sns.barplot(data=fuel_unit, x='unit', y='count')\n",
        "plt.xlabel('fuel Unit')"
      ]
    },
    {
      "cell_type": "markdown",
      "source": [
        "Because of the extreme range of the value for the fuel unit, we can plot the barchat by taking the logrithm of the y-axis as follows:"
      ],
      "metadata": {
        "id": "4Y69-x3kLmuV"
      }
    },
    {
      "cell_type": "code",
      "source": [
        "g=sns.barplot(data=fuel_unit, x='unit', y='count')\n",
        "g.set_yscale(\"log\")\n",
        "g.set_ylim(1,12000)\n",
        "plt.xlabel('fuel Unit')"
      ],
      "metadata": {
        "id": "0jILbKXLL4DI"
      },
      "execution_count": null,
      "outputs": []
    },
    {
      "cell_type": "code",
      "source": [
        "#Select a sample of the dataset\n",
        "sample_df = fuel_data.sample(n=50, random_state=4)\n",
        "sns.regplot(x=sample_df[\"utility_id_ferc1\"], y=sample_df[\"fuel_cost_per_mmbtu\"],\n",
        "fit_reg=False)"
      ],
      "metadata": {
        "id": "E1mH17huN-Tx"
      },
      "execution_count": null,
      "outputs": []
    },
    {
      "cell_type": "markdown",
      "source": [
        "- Advance plotting Kernel Density Estimate plots, box plots and violin plots"
      ],
      "metadata": {
        "id": "IBnu2QIuOaqF"
      }
    },
    {
      "cell_type": "code",
      "source": [
        "#import plotting library\n",
        "import seaborn as sample\n",
        "\n",
        "Box plot\n",
        "sns.boxplot(x=\"fuel_type_code_pudl\", y=\"utility_id_ferc1\",\n",
        "            palette=[\"m\", \"g\"], data=fuel_data)\n",
        "#KDE plot\n",
        "sns.kdeplot(sample_df['fuel_cost_per_unit_burned'], shade=True, color=\"b\")"
      ],
      "metadata": {
        "id": "0yyE56PMOjpp"
      },
      "execution_count": null,
      "outputs": []
    }
  ]
}