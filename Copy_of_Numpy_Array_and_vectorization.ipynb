{
  "nbformat": 4,
  "nbformat_minor": 0,
  "metadata": {
    "colab": {
      "name": "Copy of Numpy Array and vectorization",
      "provenance": [],
      "authorship_tag": "ABX9TyMnqa2qvDDXSItPSha/U66y",
      "include_colab_link": true
    },
    "kernelspec": {
      "name": "python3",
      "display_name": "Python 3"
    },
    "language_info": {
      "name": "python"
    }
  },
  "cells": [
    {
      "cell_type": "markdown",
      "metadata": {
        "id": "view-in-github",
        "colab_type": "text"
      },
      "source": [
        "<a href=\"https://colab.research.google.com/github/evansigho/Hamoye-Tag-Along-Codes/blob/main/Copy_of_Numpy_Array_and_vectorization.ipynb\" target=\"_parent\"><img src=\"https://colab.research.google.com/assets/colab-badge.svg\" alt=\"Open In Colab\"/></a>"
      ]
    },
    {
      "cell_type": "markdown",
      "source": [
        "# convention for importing numpy"
      ],
      "metadata": {
        "id": "U9Na0wvbR2nT"
      }
    },
    {
      "cell_type": "code",
      "execution_count": null,
      "metadata": {
        "id": "Q0h8tLPcsLjg",
        "outputId": "a41e3903-0a39-4346-c901-1b5623313441",
        "colab": {
          "base_uri": "https://localhost:8080/"
        }
      },
      "outputs": [
        {
          "output_type": "stream",
          "name": "stdout",
          "text": [
            "<class 'list'>\n",
            "<class 'numpy.ndarray'>\n",
            "(4,)\n",
            "int64\n",
            "1\n",
            "[[1 2 3]\n",
            " [4 5 6]]\n",
            "2\n"
          ]
        },
        {
          "output_type": "execute_result",
          "data": {
            "text/plain": [
              "(2, 3)"
            ]
          },
          "metadata": {},
          "execution_count": 6
        }
      ],
      "source": [
        "import numpy as np\n",
        "\n",
        "arr = [6,7,8,9]\n",
        "print(type(arr)) #prints <class 'list'>\n",
        "\n",
        "a = np.array(arr)\n",
        "print(type(a))  #prints <class 'numpy.ndarray'>\n",
        "print(a.shape)  #prints (4,) - a is a 1d array with 4 items\n",
        "print(a.dtype)  #prints int64\n",
        "\n",
        "#get the dimension of a with ndim\n",
        "print(a.ndim)  #prints 1\n",
        "\n",
        "b = np.array([[1,2,3], [4,5,6]])\n",
        "print(b)      #prints [[1 2 3]\n",
        "                      # [4 5 6]]\n",
        "print(b.ndim) #prits 2\n",
        "b.shape       #prints (2, 3) - b is a 2d array with 2 rows and 3 columns"
      ]
    },
    {
      "cell_type": "code",
      "source": [
        "from numpy.core.fromnumeric import ndim\n",
        "import numpy as np\n",
        "arr = [6,7,8,9]\n",
        "print(type(arr))  #prints <class 'list'>\n",
        "\n",
        "a = np.array(arr)\n",
        "print(type(a))   #prints <class 'numpy.ndarray'>\n",
        "print(a.shape)   #prints (4,) - a is a 1d array with 4 items\n",
        "print(a.dtype)   #prints int64\n",
        "\n",
        "#get the dmension of a with ndim\n",
        "print(a.ndim)   #prints 1\n",
        "\n",
        "b = np.array([[1,2,3], [4,5,6]])\n",
        "print(b)       #prints [[1 2 3]\n",
        "                #[4 5 6]]\n",
        "print(b.ndim)   #prints 2\n",
        "b.shape        #prints (2,3) - b a 2d array with 2 rows and 3 columns"
      ],
      "metadata": {
        "id": "gNYu7AcRuiwM",
        "outputId": "12d3ee8d-fc9d-4b0f-a72a-80b72064bdca",
        "colab": {
          "base_uri": "https://localhost:8080/"
        }
      },
      "execution_count": null,
      "outputs": [
        {
          "output_type": "stream",
          "name": "stdout",
          "text": [
            "<class 'list'>\n",
            "<class 'numpy.ndarray'>\n",
            "(4,)\n",
            "int64\n",
            "1\n",
            "[[1 2 3]\n",
            " [4 5 6]]\n",
            "2\n"
          ]
        },
        {
          "output_type": "execute_result",
          "data": {
            "text/plain": [
              "(2, 3)"
            ]
          },
          "metadata": {},
          "execution_count": 7
        }
      ]
    },
    {
      "cell_type": "markdown",
      "source": [
        "Inbuilt functions that can be used to initialize numpy"
      ],
      "metadata": {
        "id": "VcalC1K7wk3u"
      }
    },
    {
      "cell_type": "code",
      "source": [
        "#a 2x3 array with random values\n",
        "np.random.random((2, 3))\n",
        "# a 2x3 array of zeros\n",
        "np.zeros((2,3))\n",
        "#a 2x3 array of ones\n",
        "np.ones((2,3))\n",
        "#a 3x3 identity matrix\n",
        "np.identity(3)\n"
      ],
      "metadata": {
        "id": "pQAoaqOowol7",
        "outputId": "ecc17cce-7c6e-4631-e8f3-1429fe188819",
        "colab": {
          "base_uri": "https://localhost:8080/"
        }
      },
      "execution_count": null,
      "outputs": [
        {
          "output_type": "execute_result",
          "data": {
            "text/plain": [
              "array([[1., 0., 0.],\n",
              "       [0., 1., 0.],\n",
              "       [0., 0., 1.]])"
            ]
          },
          "metadata": {},
          "execution_count": 8
        }
      ]
    },
    {
      "cell_type": "markdown",
      "source": [
        "Intra-operability of arrays and scallars"
      ],
      "metadata": {
        "id": "QS-sv7bKxlIG"
      }
    },
    {
      "cell_type": "code",
      "source": [
        "c = np.array([[9.0, 8.0, 7.0], [1.0, 2.0, 3.0,]])\n",
        "d = np.array([[4.0, 5.0, 6.0], [9.0, 8.0, 7.0]])\n",
        "\n",
        "c + d #prints array([[13,. 13., 13.],\n",
        "                    #[10., 10., 10.]])\n",
        "\n",
        "c * d #prints array([[36., 40., 42.],\n",
        "                    #[9., 16., 21.]])\n",
        "\n",
        "5/d   #prints array([[1.25 , 1. , 0.83333333],\n",
        "               #[0.55555556, 0.625 , 0.71428571]])\n",
        "               \n",
        "c**2   #prints array([[81., 64., 49.], [1., 4., 9.]])\n",
        "\n"
      ],
      "metadata": {
        "id": "5-_SGB39xqqg",
        "outputId": "c68a4fd7-d5ea-4b2a-cc65-536b2e6b4ee2",
        "colab": {
          "base_uri": "https://localhost:8080/"
        }
      },
      "execution_count": null,
      "outputs": [
        {
          "output_type": "execute_result",
          "data": {
            "text/plain": [
              "array([[81., 64., 49.],\n",
              "       [ 1.,  4.,  9.]])"
            ]
          },
          "metadata": {},
          "execution_count": 9
        }
      ]
    },
    {
      "cell_type": "markdown",
      "source": [
        "Indexing with arrays & Using arrays for data processing"
      ],
      "metadata": {
        "id": "kh9XtY2r0HCK"
      }
    },
    {
      "cell_type": "code",
      "source": [
        "#The elements in the example arrays above can be accessed by indexing like list in python su\n",
        "a[0] #prints 6\n",
        "a[3] #prints 9\n",
        "b[0,0] #prints 1\n",
        "b[1,2] #prints 6\n",
        "c[0,1] #prints 8\n",
        "\n",
        "#lement in arrays can also be retrieved by slicing rows and columns or a combination of in\n",
        "d[1, 0:2] #prints array([9., 8.])\n",
        "\n",
        "e = np.array([[10, 11, 12], [13, 14, 15],\n",
        "             [16, 17, 18], [19, 20, 21]])\n",
        "\n",
        "#slicing\n",
        "e[:3, :2] #prints array([[10, 11], [13, 14], [16, 17]])\n",
        "\n",
        "#There are other advanced methods of indexing which are shown below.\n",
        "#integer indexing\n",
        "e[[2, 0, 3, 1], [2, 1, 0, 2]] #prints array ([18, 11, 19, 15])\n",
        "\n",
        "#boolean indexing meeting aa specified condition\n",
        "e[e>15] #prints array([16, 17, 18, 19, 20, 21])\n"
      ],
      "metadata": {
        "id": "DBu5vreb0PUm",
        "outputId": "3603b7d0-8d3e-4ed3-a852-0a5a6d47d5b1",
        "colab": {
          "base_uri": "https://localhost:8080/"
        }
      },
      "execution_count": null,
      "outputs": [
        {
          "output_type": "execute_result",
          "data": {
            "text/plain": [
              "array([16, 17, 18, 19, 20, 21])"
            ]
          },
          "metadata": {},
          "execution_count": 10
        }
      ]
    }
  ]
}