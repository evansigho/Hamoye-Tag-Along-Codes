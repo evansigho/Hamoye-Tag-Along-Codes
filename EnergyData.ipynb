{
  "nbformat": 4,
  "nbformat_minor": 0,
  "metadata": {
    "colab": {
      "name": "EnergyData.ipynb",
      "provenance": [],
      "authorship_tag": "ABX9TyMchQMyuFhQd5BCfmwc0Fy5",
      "include_colab_link": true
    },
    "kernelspec": {
      "name": "python3",
      "display_name": "Python 3"
    },
    "language_info": {
      "name": "python"
    }
  },
  "cells": [
    {
      "cell_type": "markdown",
      "metadata": {
        "id": "view-in-github",
        "colab_type": "text"
      },
      "source": [
        "<a href=\"https://colab.research.google.com/github/evansigho/Hamoye-Tag-Along-Codes/blob/main/EnergyData.ipynb\" target=\"_parent\"><img src=\"https://colab.research.google.com/assets/colab-badge.svg\" alt=\"Open In Colab\"/></a>"
      ]
    },
    {
      "cell_type": "markdown",
      "source": [
        "# Stage B Quiz"
      ],
      "metadata": {
        "id": "k2GTw-nDeNgR"
      }
    },
    {
      "cell_type": "code",
      "source": [
        "#Importing all librabries\n",
        "import pandas as pd\n",
        "import numpy as np\n",
        "import matplotlib.pyplot as plt\n",
        "from sklearn.linear_model import Lasso"
      ],
      "metadata": {
        "id": "YYQqS-9HeEwV"
      },
      "execution_count": 3,
      "outputs": []
    },
    {
      "cell_type": "code",
      "execution_count": null,
      "metadata": {
        "id": "mUYCugkgd0XL"
      },
      "outputs": [],
      "source": [
        "#load the data into pandas\n",
        "\n",
        "df = pd.read_csv('energydata_complete.csv')\n",
        "df.head()"
      ]
    },
    {
      "cell_type": "code",
      "source": [
        "#Description  of Data\n",
        "df.info()"
      ],
      "metadata": {
        "id": "ogOy-3_nhxz1"
      },
      "execution_count": null,
      "outputs": []
    },
    {
      "cell_type": "markdown",
      "source": [
        "From the above info, there are no missing values in the dataset. Also, all attributes are numerical, except the 'date' feature. It is an object type. Usually it would be converted but since I will be dropping the column, there is no need for conversion."
      ],
      "metadata": {
        "id": "bY2_wP7fihqh"
      }
    },
    {
      "cell_type": "code",
      "source": [
        "#Dropping the 'Lights' and 'date' columns\n",
        "\n",
        "df = df.drop(['date', 'lights'], axis = 1)\n",
        "df.head()"
      ],
      "metadata": {
        "id": "9TzAQiwViuNm"
      },
      "execution_count": null,
      "outputs": []
    },
    {
      "cell_type": "code",
      "source": [
        "#normalizing Dataset\n",
        "from sklearn.processing import MinMaxScaler\n",
        "\n",
        "scaler = MinMaxScaler()\n",
        "\n",
        "df_scaled = pd.DataFrame(scaler.fit_transform(df), columns = energydata.columns)\n",
        "\n",
        "#get features and labels\n",
        "X ="
      ],
      "metadata": {
        "id": "8c9Ttq_0jVKX"
      },
      "execution_count": null,
      "outputs": []
    }
  ]
}