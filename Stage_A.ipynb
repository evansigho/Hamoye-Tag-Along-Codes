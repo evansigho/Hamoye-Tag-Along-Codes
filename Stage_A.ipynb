{
  "nbformat": 4,
  "nbformat_minor": 0,
  "metadata": {
    "colab": {
      "name": "Stage A.ipynb",
      "provenance": [],
      "authorship_tag": "ABX9TyPtCrys63n94Iydz6/9eC87",
      "include_colab_link": true
    },
    "kernelspec": {
      "name": "python3",
      "display_name": "Python 3"
    },
    "language_info": {
      "name": "python"
    }
  },
  "cells": [
    {
      "cell_type": "markdown",
      "metadata": {
        "id": "view-in-github",
        "colab_type": "text"
      },
      "source": [
        "<a href=\"https://colab.research.google.com/github/evansigho/Hamoye-Tag-Along-Codes/blob/main/Stage_A.ipynb\" target=\"_parent\"><img src=\"https://colab.research.google.com/assets/colab-badge.svg\" alt=\"Open In Colab\"/></a>"
      ]
    },
    {
      "cell_type": "markdown",
      "source": [
        "# Stage A Graded Quiz - HDSC-Introduction-to-Python-for-machine-learning"
      ],
      "metadata": {
        "id": "f1_Zoz89xW0a"
      }
    },
    {
      "cell_type": "code",
      "execution_count": 29,
      "metadata": {
        "id": "DpxZXYC8szE7"
      },
      "outputs": [],
      "source": [
        "# importing libraries\n",
        "import pandas as pd\n",
        "import numpy as np\n",
        "import matplotlib.pyplot as plt\n",
        "%matplotlib inline\n",
        "import seaborn as sns"
      ]
    },
    {
      "cell_type": "code",
      "source": [
        "#Read data from .csv file \n",
        "foodbalancesheet_data = pd.read_csv('/content/foodbalancesheets_e_africa_noflag1.csv', encoding= 'latin-1')\n",
        "foodbalancesheet_data.head()"
      ],
      "metadata": {
        "id": "lpEVL3ZtNqLh"
      },
      "execution_count": null,
      "outputs": []
    },
    {
      "cell_type": "code",
      "source": [
        "# Data summary\n",
        "foodbalancesheet_data.describe(include='all')"
      ],
      "metadata": {
        "id": "Uug7-db_Vq9K"
      },
      "execution_count": null,
      "outputs": []
    },
    {
      "cell_type": "code",
      "source": [
        "#Question 1\n",
        "\n"
      ],
      "metadata": {
        "id": "z1WIJoyNYIeJ"
      },
      "execution_count": null,
      "outputs": []
    }
  ]
}