{
  "cells": [
    {
      "cell_type": "markdown",
      "metadata": {
        "id": "view-in-github",
        "colab_type": "text"
      },
      "source": [
        "<a href=\"https://colab.research.google.com/github/evansigho/Hamoye-Tag-Along-Codes/blob/main/Stage_A.ipynb\" target=\"_parent\"><img src=\"https://colab.research.google.com/assets/colab-badge.svg\" alt=\"Open In Colab\"/></a>"
      ]
    },
    {
      "cell_type": "markdown",
      "metadata": {
        "id": "f1_Zoz89xW0a"
      },
      "source": [
        "# Stage A Graded Quiz - HDSC-Introduction-to-Python-for-machine-learning"
      ]
    },
    {
      "cell_type": "code",
      "execution_count": 9,
      "metadata": {
        "id": "DpxZXYC8szE7"
      },
      "outputs": [],
      "source": [
        "# importing libraries\n",
        "import pandas as pd\n",
        "import numpy as np\n",
        "import matplotlib.pyplot as plt\n",
        "%matplotlib inline\n",
        "import seaborn as sns"
      ]
    },
    {
      "cell_type": "code",
      "execution_count": null,
      "metadata": {
        "id": "lpEVL3ZtNqLh"
      },
      "outputs": [],
      "source": [
        "# Loading our data from .csv file \n",
        "foodbalancesheet_data = pd.read_csv('/content/FoodBalanceSheets_E_Africa_NOFLAG.csv', encoding= 'latin-1')\n",
        "foodbalancesheet_data.head()"
      ]
    },
    {
      "cell_type": "code",
      "source": [
        "#Question 11 # 269617.53\n",
        "foodbalancesheet_data.groupby('Item')['Y2017'].sum()"
      ],
      "metadata": {
        "id": "DD1bR1HDK6lg"
      },
      "execution_count": null,
      "outputs": []
    },
    {
      "cell_type": "code",
      "source": [
        "#Question 11b #209460.54\n",
        "foodbalancesheet_data.groupby('Item')['Y2014'].sum()"
      ],
      "metadata": {
        "id": "VhCuz15tuChf"
      },
      "execution_count": null,
      "outputs": []
    },
    {
      "cell_type": "code",
      "source": [
        "# Question 12 #135.235966 and 1603.403984\t\n",
        "foodbalancesheet_data.describe(include='all')"
      ],
      "metadata": {
        "id": "0ZUQU1VlttR8"
      },
      "execution_count": null,
      "outputs": []
    },
    {
      "cell_type": "code",
      "source": [
        "# Question 13 #1535 and 2.52\n",
        "foodbalancesheet_data.isnull().sum()"
      ],
      "metadata": {
        "id": "REGI-BcDLbX4"
      },
      "execution_count": null,
      "outputs": []
    },
    {
      "cell_type": "code",
      "source": [
        "# Question 14 #2014\n",
        "foodbalancesheet_data.groupby('Element Code').corr()"
      ],
      "metadata": {
        "id": "ktWydCwzOK2D"
      },
      "execution_count": null,
      "outputs": []
    },
    {
      "cell_type": "code",
      "source": [
        "# Question 15 #2015\n",
        "foodbalancesheet_data.groupby('Element').sum()"
      ],
      "metadata": {
        "id": "Vi1JECdMVzk9"
      },
      "execution_count": null,
      "outputs": []
    },
    {
      "cell_type": "code",
      "source": [
        "# QUESTION 16 #1931287.75\n",
        "foodbalancesheet_data.groupby('Element').sum()"
      ],
      "metadata": {
        "id": "s0bkr1lTXiA0"
      },
      "execution_count": null,
      "outputs": []
    },
    {
      "cell_type": "code",
      "source": [
        "# Question 17 #Domestic supply quantity\n",
        "foodbalancesheet_data.groupby('Element')['Y2018'].sum()"
      ],
      "metadata": {
        "id": "7FhZbZMQYAOG"
      },
      "execution_count": null,
      "outputs": []
    },
    {
      "cell_type": "code",
      "source": [
        "# Question 18 #Protein supply quantity (g/capita/day)\n",
        "foodbalancesheet_data.groupby('Element')['Y2018'].sum()"
      ],
      "metadata": {
        "id": "TBGl1eysYdf4"
      },
      "execution_count": null,
      "outputs": []
    },
    {
      "cell_type": "code",
      "source": [
        "# Question 19 \n",
        "foodbalancesheet_data.groupby('Element').first()"
      ],
      "metadata": {
        "id": "ps1pQWGIY9T6"
      },
      "execution_count": null,
      "outputs": []
    },
    {
      "cell_type": "code",
      "source": [
        "# Question 20\n",
        "foodbalancesheet_data.pd('Area').sum()"
      ],
      "metadata": {
        "id": "9oU9KXajmPza"
      },
      "execution_count": null,
      "outputs": []
    }
  ],
  "metadata": {
    "colab": {
      "name": "Stage A.ipynb",
      "provenance": [],
      "authorship_tag": "ABX9TyOYuyZYMh15Zr/DrtYd+Bx3",
      "include_colab_link": true
    },
    "kernelspec": {
      "display_name": "Python 3",
      "name": "python3"
    },
    "language_info": {
      "name": "python"
    }
  },
  "nbformat": 4,
  "nbformat_minor": 0
}