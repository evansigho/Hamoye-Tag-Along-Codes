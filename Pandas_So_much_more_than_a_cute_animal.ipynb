{
  "nbformat": 4,
  "nbformat_minor": 0,
  "metadata": {
    "colab": {
      "name": "Pandas- So much more than a cute animal.ipynb",
      "provenance": [],
      "authorship_tag": "ABX9TyO/NytC9k4EvdEbkBoxdHVr",
      "include_colab_link": true
    },
    "kernelspec": {
      "name": "python3",
      "display_name": "Python 3"
    },
    "language_info": {
      "name": "python"
    }
  },
  "cells": [
    {
      "cell_type": "markdown",
      "metadata": {
        "id": "view-in-github",
        "colab_type": "text"
      },
      "source": [
        "<a href=\"https://colab.research.google.com/github/evansigho/Hamoye-Tag-Along-Codes/blob/main/Pandas_So_much_more_than_a_cute_animal.ipynb\" target=\"_parent\"><img src=\"https://colab.research.google.com/assets/colab-badge.svg\" alt=\"Open In Colab\"/></a>"
      ]
    },
    {
      "cell_type": "markdown",
      "source": [
        "# Concept 1.4: Data Types and Data Wrangling"
      ],
      "metadata": {
        "id": "ejAA2uIiQE3E"
      }
    },
    {
      "cell_type": "markdown",
      "source": [
        "- Working with different types of data: text files, CSV, JSON objects, HTML and databases."
      ],
      "metadata": {
        "id": "YmdnxnX5QTM8"
      }
    },
    {
      "cell_type": "code",
      "source": [
        "import numpy as np\n",
        "import pandas as pd\n",
        "import seaborn as sns\n",
        "import matplotlib.pyplot as plt"
      ],
      "metadata": {
        "id": "-2tYZcwfujZi"
      },
      "execution_count": 7,
      "outputs": []
    },
    {
      "cell_type": "code",
      "source": [
        "csv_df = pd.read_csv('sample_file.csv')\n",
        "csv_df.to_csv('sample_file.csv', index=False)"
      ],
      "metadata": {
        "id": "mm8c1tCRQgww"
      },
      "execution_count": null,
      "outputs": []
    },
    {
      "cell_type": "code",
      "source": [
        "#sometimes dependent on the xlrd libary which can be installed by running pip install xlrd in the terminal\n",
        "excel_df = pd.read_excel('sample_file.xlsx')\n",
        "excel_df.to_excel('sample_file.xlsx')"
      ],
      "metadata": {
        "id": "oR0w0HZrQ2N7"
      },
      "execution_count": null,
      "outputs": []
    },
    {
      "cell_type": "code",
      "source": [
        "#read table from a webpage and save as dataframe\n",
        "html_df = pd.read_html('http://www.webpage.com/sampledata.html')\n",
        "html_df.to_html('sample_file.html')"
      ],
      "metadata": {
        "id": "Mm6OYBpHRUjN"
      },
      "execution_count": null,
      "outputs": []
    },
    {
      "cell_type": "markdown",
      "source": [
        "Pandas can connect to databases, get data with queries and save in a datafram.\n"
      ],
      "metadata": {
        "id": "eot1CZ_qRvBV"
      }
    },
    {
      "cell_type": "code",
      "source": [
        "url = 'https//github.com/walephenomenon/climate_change/blob/master/fuel_ferc1.csv?raw=true'\n",
        "fuel_data = pd.read_csv(url, error_bad_lines=False)\n",
        "fuel_data.describe(include='all')"
      ],
      "metadata": {
        "id": "Re5JcwiQR2E3"
      },
      "execution_count": null,
      "outputs": []
    },
    {
      "cell_type": "code",
      "source": [
        "#chech for missing values\n",
        "fuel_data.isnull().sum()"
      ],
      "metadata": {
        "id": "UWfnNZ2hSaEZ"
      },
      "execution_count": null,
      "outputs": []
    },
    {
      "cell_type": "code",
      "source": [
        "#use groupby to count the sum of each unique value in the fuel unit column\n",
        "fuel_data.groupby('fuel_unit')['fuel_unit'].count()\n",
        "fuel_data[['fuel_unit']] = fuel_data[['fuel_data']].fillna(value='mcf')"
      ],
      "metadata": {
        "id": "O76KqIkQSogB"
      },
      "execution_count": null,
      "outputs": []
    },
    {
      "cell_type": "code",
      "source": [
        "#checkif missing values have been filled\n",
        "fuel_data.isnull().sum()"
      ],
      "metadata": {
        "id": "P2DrmEhHTFX9"
      },
      "execution_count": null,
      "outputs": []
    },
    {
      "cell_type": "code",
      "source": [
        "fuel_data.groupby('report_year')['report_year'].count()\n",
        "#group by the fuel type code year and print the first entries in all the groups formed\n",
        "fuel_data.groupby('fuel_type_code_pud1').first()"
      ],
      "metadata": {
        "id": "qlcnNKfnTTWt"
      },
      "execution_count": null,
      "outputs": []
    },
    {
      "cell_type": "markdown",
      "source": [
        "Merging in pandas can be likened to join operations in relational databases like SQL."
      ],
      "metadata": {
        "id": "YQqdnR1ZBrTm"
      }
    },
    {
      "cell_type": "code",
      "source": [
        "fuel_df1 = fuel_data.iloc[0:19000].reset_index(drop=True)\n",
        "fuel_df2 = fuel_data.iloc[19000].reset_index(drop=True)\n"
      ],
      "metadata": {
        "id": "JhK2XkQTB1Xo"
      },
      "execution_count": null,
      "outputs": []
    },
    {
      "cell_type": "code",
      "source": [
        "#check that the length of both dataframes sum to the expected length\n",
        "assert len(fuel_data) == (len(fuel_df1) + len(fuel_df2))"
      ],
      "metadata": {
        "id": "GiI5GxhnCLNY"
      },
      "execution_count": null,
      "outputs": []
    },
    {
      "cell_type": "code",
      "source": [
        "#an inner merge will lose rows that do not match in both dataframes\n",
        "pd.merge(fuel_df1, fuel_df2, how=\"inner\")"
      ],
      "metadata": {
        "id": "W5K2fFWmCoUl"
      },
      "execution_count": null,
      "outputs": []
    },
    {
      "cell_type": "code",
      "source": [
        "#outer merge returns all rows in both dataframes\n",
        "pd.merge(fuel_df1, fuel_df2, how=\"outer\")"
      ],
      "metadata": {
        "id": "plGW2O2pC6a1"
      },
      "execution_count": null,
      "outputs": []
    },
    {
      "cell_type": "code",
      "source": [
        "#removes rows from the right dataframe that do not have a match with the left\n",
        "#and keeps all rows from the left\n",
        "pd.merge(fuel_df1, fuel_df2, how=\"left\")"
      ],
      "metadata": {
        "id": "zPZWKBVMDLCv"
      },
      "execution_count": null,
      "outputs": []
    },
    {
      "cell_type": "markdown",
      "source": [
        "Concantenation is performed with concat() function\n"
      ],
      "metadata": {
        "id": "fs9Al1WNDdK9"
      }
    },
    {
      "cell_type": "code",
      "source": [
        "pd.concat([fuel_data, data_to_concat]).reset_index(drop=True)"
      ],
      "metadata": {
        "id": "VLc4ur97DnFK"
      },
      "execution_count": null,
      "outputs": []
    },
    {
      "cell_type": "markdown",
      "source": [
        "Duplicates are a common occurence in datasets whci alter the results of data analysis."
      ],
      "metadata": {
        "id": "zgYg0Cj8D0Ve"
      }
    },
    {
      "cell_type": "code",
      "source": [
        "#check for duplicates rows\n",
        "fuel_data.duplicated().any()"
      ],
      "metadata": {
        "id": "QDT623ucD9Rg"
      },
      "execution_count": null,
      "outputs": []
    }
  ]
}