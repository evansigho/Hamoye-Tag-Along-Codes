{
  "nbformat": 4,
  "nbformat_minor": 0,
  "metadata": {
    "colab": {
      "name": "Hamoye Stage B Quiz Oghenekaro Igho.ipynb",
      "provenance": [],
      "authorship_tag": "ABX9TyObM2uIo9lDIjosiN7SdkcR",
      "include_colab_link": true
    },
    "kernelspec": {
      "name": "python3",
      "display_name": "Python 3"
    },
    "language_info": {
      "name": "python"
    }
  },
  "cells": [
    {
      "cell_type": "markdown",
      "metadata": {
        "id": "view-in-github",
        "colab_type": "text"
      },
      "source": [
        "<a href=\"https://colab.research.google.com/github/evansigho/Hamoye-Tag-Along-Codes/blob/main/Hamoye_Stage_B_Quiz_Oghenekaro_Igho.ipynb\" target=\"_parent\"><img src=\"https://colab.research.google.com/assets/colab-badge.svg\" alt=\"Open In Colab\"/></a>"
      ]
    },
    {
      "cell_type": "markdown",
      "source": [
        "Stage B quiz"
      ],
      "metadata": {
        "id": "HuhC1MIQm2XQ"
      }
    },
    {
      "cell_type": "code",
      "execution_count": 6,
      "metadata": {
        "id": "bnyEP5a14Piq"
      },
      "outputs": [],
      "source": [
        "#Importing all libraries\n",
        "import pandas as pd\n",
        "import numpy as np\n",
        "import matplotlib.pyplot as plt\n",
        "from sklearn.linear_model import Lasso\n",
        "from sklearn.linear_model import Ridge"
      ]
    },
    {
      "cell_type": "code",
      "source": [
        "#Reading Libraries\n",
        "energydata = pd.read_csv('energydata_complete.csv')\n",
        "energydata.head()"
      ],
      "metadata": {
        "id": "Jn42YiaB6I2a"
      },
      "execution_count": null,
      "outputs": []
    },
    {
      "cell_type": "code",
      "source": [
        "#drop the 'date' and 'lights' columns\n",
        "\n",
        "energydata = energydata.drop(['date', 'lights'], axis = 1) \n",
        "energydata.head()"
      ],
      "metadata": {
        "id": "hzpSNfu9lvXD"
      },
      "execution_count": null,
      "outputs": []
    },
    {
      "cell_type": "code",
      "source": [
        "#data description\n",
        "energydata.info()"
      ],
      "metadata": {
        "id": "XnsGC21YnI0B"
      },
      "execution_count": null,
      "outputs": []
    },
    {
      "cell_type": "code",
      "source": [
        "#normalize the dataset\n",
        "from sklearn.preprocessing import MinMaxScaler\n",
        "\n",
        "scaler = MinMaxScaler()\n",
        "\n",
        "energydata_scaled = pd.DataFrame(scaler.fit_transform(energydata),  columns = energydata.columns)\n",
        "\n",
        "#get features and labels\n",
        "X = energydata_scaled.drop(columns=['Appliances'])\n",
        "\n",
        "y = energydata_scaled['Appliances']"
      ],
      "metadata": {
        "id": "j3c6-M3alkXu"
      },
      "execution_count": null,
      "outputs": []
    },
    {
      "cell_type": "code",
      "source": [
        "df.columns"
      ],
      "metadata": {
        "id": "U3cQcI4C6o1F"
      },
      "execution_count": null,
      "outputs": []
    },
    {
      "cell_type": "code",
      "source": [
        "#1. Convert the data column to datetime format 2. Let's \n",
        "#create a feature week that contains the number of the week - weekofyear:\n",
        "\n",
        "df['date'] = df['date'].apply(pd.to_datetime)\n",
        "df['week'] = df['date'].apply(lambda t: t.weekofyear)"
      ],
      "metadata": {
        "id": "gjjHY0L5665l"
      },
      "execution_count": null,
      "outputs": []
    },
    {
      "cell_type": "code",
      "source": [
        "df.groupby('week')[['date']].count()"
      ],
      "metadata": {
        "id": "hROJAR1Z72fp"
      },
      "execution_count": null,
      "outputs": []
    },
    {
      "cell_type": "code",
      "source": [
        "#Let's leave only weeks from 3 to 20:\n",
        "df.drop(df[(df['week'] < 3) | (df['week'] > 20)].index, axis=0, inplace=True)"
      ],
      "metadata": {
        "id": "jyQdiFvV8QM3"
      },
      "execution_count": null,
      "outputs": []
    },
    {
      "cell_type": "code",
      "source": [
        "#I create a column given by the index:\n",
        "df = df.set_index('date')"
      ],
      "metadata": {
        "id": "arys1hd08lhZ"
      },
      "execution_count": null,
      "outputs": []
    },
    {
      "cell_type": "code",
      "source": [
        "df.info()"
      ],
      "metadata": {
        "id": "JY5FL4bA8vv_"
      },
      "execution_count": null,
      "outputs": []
    },
    {
      "cell_type": "code",
      "source": [
        "#Convert all columns (except week) to float64 format:\n",
        "df['Appliances'] = df['Appliances'].astype('float')\n",
        "df['lights'] =df['lights'].astype('float')"
      ],
      "metadata": {
        "id": "w-mBNVnv85rC"
      },
      "execution_count": null,
      "outputs": []
    },
    {
      "cell_type": "code",
      "source": [
        "df.head()"
      ],
      "metadata": {
        "id": "KzwSlWyI9JQf"
      },
      "execution_count": null,
      "outputs": []
    },
    {
      "cell_type": "code",
      "source": [
        "#Let's visualize the last week:\n",
        "plt.figure(figsize=(18, 8));\n",
        "plt.plot(df[['Appliances']][df['week']==20]);\n",
        "plt.xlabel('date');\n",
        "plt.ylabel('Appliances');"
      ],
      "metadata": {
        "id": "m3JpQoID9TJe"
      },
      "execution_count": null,
      "outputs": []
    },
    {
      "cell_type": "markdown",
      "source": [
        "#Validation"
      ],
      "metadata": {
        "id": "tBz4xSnz9g7o"
      }
    },
    {
      "cell_type": "code",
      "source": [
        "#Dividing the sample into objects (features) - X and labels (target variable) - y:\n",
        "X = df.drop('Appliances', axis=1)\n",
        "y = df[['Appliances']]"
      ],
      "metadata": {
        "id": "qo_Q9rlL9juu"
      },
      "execution_count": null,
      "outputs": []
    },
    {
      "cell_type": "markdown",
      "source": [
        "I split the dataset into 2 parts:\n",
        "1. Data for weeks 19-20 - test sample\n",
        "2. Weeks 3-18 - training sample"
      ],
      "metadata": {
        "id": "pk2ECTYm94dZ"
      }
    },
    {
      "cell_type": "code",
      "source": [
        "X_train = X[X['week'] < 19]\n",
        "X_test = X[X['week'] >= 19]\n",
        "\n",
        "y_train = y[:X_train.index[-1]]\n",
        "y_test = y[X_test.index[0]:]"
      ],
      "metadata": {
        "id": "v5HpUS16-J6H"
      },
      "execution_count": null,
      "outputs": []
    },
    {
      "cell_type": "markdown",
      "source": [
        "Let's look at the dimensions of the samples:"
      ],
      "metadata": {
        "id": "_3eJ-cSZ-Si9"
      }
    },
    {
      "cell_type": "code",
      "source": [
        "X_train.shape, y_train.shape"
      ],
      "metadata": {
        "colab": {
          "base_uri": "https://localhost:8080/"
        },
        "id": "MGqAEZlQ-Tua",
        "outputId": "9e6e853f-a05d-43af-a49e-0fad94e8ce45"
      },
      "execution_count": null,
      "outputs": [
        {
          "output_type": "execute_result",
          "data": {
            "text/plain": [
              "((16128, 28), (16128, 1))"
            ]
          },
          "metadata": {},
          "execution_count": 27
        }
      ]
    },
    {
      "cell_type": "code",
      "source": [
        "X_test.shape, y_test.shape"
      ],
      "metadata": {
        "colab": {
          "base_uri": "https://localhost:8080/"
        },
        "id": "zUJp9uDo-sgf",
        "outputId": "55f0a77a-8f93-4fca-f0e9-23dacb157462"
      },
      "execution_count": null,
      "outputs": [
        {
          "output_type": "execute_result",
          "data": {
            "text/plain": [
              "((2016, 28), (2016, 1))"
            ]
          },
          "metadata": {},
          "execution_count": 28
        }
      ]
    },
    {
      "cell_type": "markdown",
      "source": [
        "Gradient boosting - XGBoost"
      ],
      "metadata": {
        "id": "t37j9w-d-yER"
      }
    },
    {
      "cell_type": "code",
      "source": [
        "dtrain = xgb.DMatrix(X_train, y_train)\n",
        "dtest = xgb.DMatrix(X_test, y_test)\n",
        "dall = xgb.DMatrix(X, y)"
      ],
      "metadata": {
        "id": "MSqjs-OJ-zzk"
      },
      "execution_count": null,
      "outputs": []
    },
    {
      "cell_type": "code",
      "source": [
        "#Let's set the model parameters:\n",
        "#Depth D=4, number of trees N=200\n",
        "max_depth = 4\n",
        "params = {'max_depth': max_depth}\n",
        "num_rounds = 200"
      ],
      "metadata": {
        "id": "_xF4KZaH-_Sl"
      },
      "execution_count": null,
      "outputs": []
    },
    {
      "cell_type": "code",
      "source": [
        "#Let's train the model:\n",
        "%%time\n",
        "\n",
        "xgb_model = xgb.train(params, dtrain, num_rounds)"
      ],
      "metadata": {
        "colab": {
          "base_uri": "https://localhost:8080/"
        },
        "id": "tg9xkXr__PEf",
        "outputId": "6574ff1c-313d-47eb-9db5-9301ba3c81fa"
      },
      "execution_count": null,
      "outputs": [
        {
          "output_type": "stream",
          "name": "stdout",
          "text": [
            "CPU times: user 8.07 s, sys: 14.2 ms, total: 8.08 s\n",
            "Wall time: 4.25 s\n"
          ]
        }
      ]
    },
    {
      "cell_type": "code",
      "source": [
        "#Visualize feature importances (top-10):\n",
        "importances = xgb_model.get_fscore()\n",
        "importances_df = pd.DataFrame({'importance': list(importances.values()), 'feature': list(importances.keys())})\n",
        "importances_df.sort_values('importance').tail(10).plot(kind='barh', x='feature', figsize=(12, 8), color='green');"
      ],
      "metadata": {
        "colab": {
          "base_uri": "https://localhost:8080/",
          "height": 483
        },
        "id": "bZ7nYyPu_Z-6",
        "outputId": "31d5e8ed-c7a3-4f9d-d43c-203bb2dd1d3f"
      },
      "execution_count": null,
      "outputs": [
        {
          "output_type": "display_data",
          "data": {
            "text/plain": [
              "<Figure size 864x576 with 1 Axes>"
            ],
            "image/png": "[encoded data removed]"
          },
          "metadata": {
            "needs_background": "light"
          }
        }
      ]
    },
    {
      "cell_type": "markdown",
      "source": [
        "F score when evaluating the importance of features in Xgboost is calculated based on how often the split was done on a given feature A function that returns the total number of leaves for a depth-wise tree of depth D:"
      ],
      "metadata": {
        "id": "OsWpk-lO_qAY"
      }
    },
    {
      "cell_type": "code",
      "source": [
        "def count_leaf(max_depth):\n",
        "    \n",
        "    L = 0\n",
        "    \n",
        "    for i in np.arange(max_depth+1):\n",
        "        \n",
        "        L += 2 ** i\n",
        "        \n",
        "    return L"
      ],
      "metadata": {
        "id": "62VgFs-B_rrw"
      },
      "execution_count": null,
      "outputs": []
    },
    {
      "cell_type": "code",
      "source": [
        "L = count_leaf(max_depth)"
      ],
      "metadata": {
        "id": "6o7SP4jFAdV-"
      },
      "execution_count": null,
      "outputs": []
    },
    {
      "cell_type": "markdown",
      "source": [
        "We get predictions in the form of a translation into a new feature space:\n",
        "Each object, when driven through boosting, hits a specific leaf in each tree. If each tree has L leaves, then the total of the boosting tree has (N * L) leaves. Thus, an object can be represented as a vector of N indices, where the i-th position is the number of the leaf where the object fell in the i-th tree."
      ],
      "metadata": {
        "id": "m-aBAjauAEbm"
      }
    },
    {
      "cell_type": "code",
      "source": [
        "predict_leaf_all = xgb_model.predict(dall, pred_leaf = True)"
      ],
      "metadata": {
        "id": "ONNqbiTSAFXq"
      },
      "execution_count": null,
      "outputs": []
    },
    {
      "cell_type": "markdown",
      "source": [
        "Convert leaves from [0; L) in [0, N*L):"
      ],
      "metadata": {
        "id": "SSz7n9P-AOTb"
      }
    },
    {
      "cell_type": "code",
      "source": [
        "delta = np.array([]) \n",
        "step = 0\n",
        "for i in range(predict_leaf_all.shape[1]):\n",
        "    delta = np.append(delta, step)\n",
        "    step += L"
      ],
      "metadata": {
        "id": "zK2Ov6GGAVo_"
      },
      "execution_count": null,
      "outputs": []
    },
    {
      "cell_type": "code",
      "source": [
        "convert_predict_all = predict_leaf_all + vector"
      ],
      "metadata": {
        "id": "lIwsl_7bAjpU"
      },
      "execution_count": null,
      "outputs": []
    },
    {
      "cell_type": "code",
      "source": [
        "convert_predict_all_df = pd.DataFrame(convert_predict_all, columns=columns)"
      ],
      "metadata": {
        "id": "aK-pSjtpA_g-"
      },
      "execution_count": null,
      "outputs": []
    },
    {
      "cell_type": "code",
      "source": [
        ""
      ],
      "metadata": {
        "id": "lC-S3UHNf7d1"
      },
      "execution_count": null,
      "outputs": []
    }
  ]
}